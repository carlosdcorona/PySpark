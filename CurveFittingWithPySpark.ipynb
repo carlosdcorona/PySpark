{
  "nbformat": 4,
  "nbformat_minor": 0,
  "metadata": {
    "colab": {
      "provenance": [],
      "include_colab_link": true
    },
    "kernelspec": {
      "name": "python3",
      "display_name": "Python 3"
    },
    "language_info": {
      "name": "python"
    }
  },
  "cells": [
    {
      "cell_type": "markdown",
      "metadata": {
        "id": "view-in-github",
        "colab_type": "text"
      },
      "source": [
        "<a href=\"https://colab.research.google.com/github/carlosdcorona/PySpark/blob/main/CurveFittingWithPySpark.ipynb\" target=\"_parent\"><img src=\"https://colab.research.google.com/assets/colab-badge.svg\" alt=\"Open In Colab\"/></a>"
      ]
    },
    {
      "cell_type": "markdown",
      "source": [
        "# Classwork 08: Curve Fitting with pySpark\n",
        "\n",
        "### Bernardo Samuel Salazar de Hoyos A00825722\n",
        "### Carlos Daniel Corona Cortez A01656002\n",
        "### Sebastian Andres Saldaña Cárdenas A01570274\n",
        "### Sergio Noé Torres Rodríguez A00825706\n",
        "### Raúl V. Ramírez Velarde\n",
        "### October 11, 2022"
      ],
      "metadata": {
        "id": "Z9oEdoxyzO1N"
      }
    },
    {
      "cell_type": "markdown",
      "source": [
        "# Boston House Market Dataset Curve Fitting"
      ],
      "metadata": {
        "id": "MIyD1K3zEJeX"
      }
    },
    {
      "cell_type": "markdown",
      "source": [
        "## Import pySpark modules"
      ],
      "metadata": {
        "id": "GJ9jWxotDvqA"
      }
    },
    {
      "cell_type": "code",
      "execution_count": null,
      "metadata": {
        "id": "tVqBbwirDsDf"
      },
      "outputs": [],
      "source": [
        "!apt-get install openjdk-8-jdk-headless -qq > /dev/null\n",
        "!wget -q https://downloads.apache.org/spark/spark-3.1.3/spark-3.1.3-bin-hadoop2.7.tgz\n",
        "!tar xf spark-3.1.3-bin-hadoop2.7.tgz\n",
        "!pip install -q findspark"
      ]
    },
    {
      "cell_type": "code",
      "source": [
        "#All imports\n",
        "import os\n",
        "os.environ[\"JAVA_HOME\"] = \"/usr/lib/jvm/java-8-openjdk-amd64\"\n",
        "os.environ[\"SPARK_HOME\"] = \"/content/spark-3.1.3-bin-hadoop2.7\""
      ],
      "metadata": {
        "id": "ou4ew_F9DvBH"
      },
      "execution_count": null,
      "outputs": []
    },
    {
      "cell_type": "code",
      "source": [
        "import findspark\n",
        "findspark.init()\n",
        "from pyspark.sql import SparkSession\n",
        "spark = SparkSession.builder.master(\"local[*]\").getOrCreate()"
      ],
      "metadata": {
        "id": "4Hih7kXcD5FI"
      },
      "execution_count": null,
      "outputs": []
    },
    {
      "cell_type": "markdown",
      "source": [
        "## Mount Google Drive"
      ],
      "metadata": {
        "id": "56EmY2ZrD8ou"
      }
    },
    {
      "cell_type": "code",
      "source": [
        "#Mount Google drive, read local file. The file was previously uploaded to Google Drive\n",
        "from google.colab import drive\n",
        "drive.mount(\"/content/drive\")\n",
        "%ls"
      ],
      "metadata": {
        "colab": {
          "base_uri": "https://localhost:8080/"
        },
        "id": "9Q1FqyjWD5pW",
        "outputId": "e8c16398-ced1-42a6-98f0-9c4e146673e9"
      },
      "execution_count": null,
      "outputs": [
        {
          "output_type": "stream",
          "name": "stdout",
          "text": [
            "Mounted at /content/drive\n",
            "\u001b[0m\u001b[01;34mdrive\u001b[0m/  \u001b[01;34msample_data\u001b[0m/  \u001b[01;34mspark-3.1.3-bin-hadoop2.7\u001b[0m/  spark-3.1.3-bin-hadoop2.7.tgz\n"
          ]
        }
      ]
    },
    {
      "cell_type": "markdown",
      "source": [
        "## Load Boston Dataset"
      ],
      "metadata": {
        "id": "XRgtmHwREFm8"
      }
    },
    {
      "cell_type": "code",
      "source": [
        "path_csv=\"/content/drive/Shareddrives/Infra DS Equipo 4/Classwork08/fat.csv\"\n",
        "dataset = spark.read.csv(path_csv,inferSchema=True, header =True)\n",
        "dataset.show(10)"
      ],
      "metadata": {
        "colab": {
          "base_uri": "https://localhost:8080/"
        },
        "id": "DUeJGfvJEH3w",
        "outputId": "67044376-340d-4bfe-c261-056e1c9eea2c"
      },
      "execution_count": null,
      "outputs": [
        {
          "output_type": "stream",
          "name": "stdout",
          "text": [
            "+---+------+----+-------+---+------+------+------+-----+----+-----+-----+-----+-----+----+-----+------+-------+-----+\n",
            "|_c0|brozek|siri|density|age|weight|height|adipos| free|neck|chest|abdom|  hip|thigh|knee|ankle|biceps|forearm|wrist|\n",
            "+---+------+----+-------+---+------+------+------+-----+----+-----+-----+-----+-----+----+-----+------+-------+-----+\n",
            "|  1|  12.6|12.3| 1.0708| 23|154.25| 67.75|  23.7|134.9|36.2| 93.1| 85.2| 94.5| 59.0|37.3| 21.9|  32.0|   27.4| 17.1|\n",
            "|  2|   6.9| 6.1| 1.0853| 22|173.25| 72.25|  23.4|161.3|38.5| 93.6| 83.0| 98.7| 58.7|37.3| 23.4|  30.5|   28.9| 18.2|\n",
            "|  3|  24.6|25.3| 1.0414| 22| 154.0| 66.25|  24.7|116.0|34.0| 95.8| 87.9| 99.2| 59.6|38.9| 24.0|  28.8|   25.2| 16.6|\n",
            "|  4|  10.9|10.4| 1.0751| 26|184.75| 72.25|  24.9|164.7|37.4|101.8| 86.4|101.2| 60.1|37.3| 22.8|  32.4|   29.4| 18.2|\n",
            "|  5|  27.8|28.7|  1.034| 24|184.25| 71.25|  25.6|133.1|34.4| 97.3|100.0|101.9| 63.2|42.2| 24.0|  32.2|   27.7| 17.7|\n",
            "|  6|  20.6|20.9| 1.0502| 24|210.25| 74.75|  26.5|167.0|39.0|104.5| 94.4|107.8| 66.0|42.0| 25.6|  35.7|   30.6| 18.8|\n",
            "|  7|  19.0|19.2| 1.0549| 26| 181.0| 69.75|  26.2|146.6|36.4|105.1| 90.7|100.3| 58.4|38.3| 22.9|  31.9|   27.8| 17.7|\n",
            "|  8|  12.8|12.4| 1.0704| 25| 176.0|  72.5|  23.6|153.6|37.8| 99.6| 88.5| 97.1| 60.0|39.4| 23.2|  30.5|   29.0| 18.8|\n",
            "|  9|   5.1| 4.1|   1.09| 25| 191.0|  74.0|  24.6|181.3|38.1|100.9| 82.5| 99.9| 62.9|38.3| 23.8|  35.9|   31.1| 18.2|\n",
            "| 10|  12.0|11.7| 1.0722| 23|198.25|  73.5|  25.8|174.4|42.1| 99.6| 88.6|104.1| 63.1|41.7| 25.0|  35.6|   30.0| 19.2|\n",
            "+---+------+----+-------+---+------+------+------+-----+----+-----+-----+-----+-----+----+-----+------+-------+-----+\n",
            "only showing top 10 rows\n",
            "\n"
          ]
        }
      ]
    },
    {
      "cell_type": "markdown",
      "source": [
        "## Fit the dataset to a linear regression model"
      ],
      "metadata": {
        "id": "rbbCusplFGiY"
      }
    },
    {
      "cell_type": "code",
      "source": [
        "from pyspark.ml.feature import VectorAssembler\n",
        "from pyspark.ml.regression import LinearRegression"
      ],
      "metadata": {
        "id": "-YWp5-5gFGGQ"
      },
      "execution_count": null,
      "outputs": []
    },
    {
      "cell_type": "code",
      "source": [
        "dataset.printSchema()"
      ],
      "metadata": {
        "colab": {
          "base_uri": "https://localhost:8080/"
        },
        "id": "BDpz-rflFWR9",
        "outputId": "6fb46fc4-2046-4387-ba8b-8316244c88f3"
      },
      "execution_count": null,
      "outputs": [
        {
          "output_type": "stream",
          "name": "stdout",
          "text": [
            "root\n",
            " |-- _c0: integer (nullable = true)\n",
            " |-- brozek: double (nullable = true)\n",
            " |-- siri: double (nullable = true)\n",
            " |-- density: double (nullable = true)\n",
            " |-- age: integer (nullable = true)\n",
            " |-- weight: double (nullable = true)\n",
            " |-- height: double (nullable = true)\n",
            " |-- adipos: double (nullable = true)\n",
            " |-- free: double (nullable = true)\n",
            " |-- neck: double (nullable = true)\n",
            " |-- chest: double (nullable = true)\n",
            " |-- abdom: double (nullable = true)\n",
            " |-- hip: double (nullable = true)\n",
            " |-- thigh: double (nullable = true)\n",
            " |-- knee: double (nullable = true)\n",
            " |-- ankle: double (nullable = true)\n",
            " |-- biceps: double (nullable = true)\n",
            " |-- forearm: double (nullable = true)\n",
            " |-- wrist: double (nullable = true)\n",
            "\n"
          ]
        }
      ]
    },
    {
      "cell_type": "code",
      "source": [
        "#Input all the features in one vector column\n",
        "assembler = VectorAssembler(inputCols=['wrist'], outputCol = 'Attributes')\n",
        "\n",
        "output = assembler.transform(dataset)\n",
        "\n",
        "#Input vs Output\n",
        "finalized_data = output.select(\"Attributes\",\"weight\")\n",
        "\n",
        "finalized_data.show(10)"
      ],
      "metadata": {
        "colab": {
          "base_uri": "https://localhost:8080/"
        },
        "id": "J2T-8aZtFZ3W",
        "outputId": "9a7824b1-2e8b-4c45-a0c3-7f1d5b07f2db"
      },
      "execution_count": null,
      "outputs": [
        {
          "output_type": "stream",
          "name": "stdout",
          "text": [
            "+----------+------+\n",
            "|Attributes|weight|\n",
            "+----------+------+\n",
            "|    [17.1]|154.25|\n",
            "|    [18.2]|173.25|\n",
            "|    [16.6]| 154.0|\n",
            "|    [18.2]|184.75|\n",
            "|    [17.7]|184.25|\n",
            "|    [18.8]|210.25|\n",
            "|    [17.7]| 181.0|\n",
            "|    [18.8]| 176.0|\n",
            "|    [18.2]| 191.0|\n",
            "|    [19.2]|198.25|\n",
            "+----------+------+\n",
            "only showing top 10 rows\n",
            "\n"
          ]
        }
      ]
    },
    {
      "cell_type": "code",
      "source": [
        "#Split training and testing data\n",
        "train_data,test_data = finalized_data.randomSplit([0.8,0.2])\n",
        "\n",
        "\n",
        "regressor = LinearRegression(featuresCol = 'Attributes', labelCol = 'weight')\n",
        "\n",
        "#Learn to fit the model from training set\n",
        "regressor = regressor.fit(train_data)\n",
        "\n",
        "#To predict the prices on testing set\n",
        "#pred_lr = regressor.evaluate(test_data)\n",
        "\n",
        "#Predict the model\n",
        "#pred_lr.predictions.show(10)\n",
        "\n",
        "#It can also be done in this way\n",
        "pred_lr = regressor.transform(test_data)\n",
        "pred_lr.select('Attributes', 'weight', 'prediction').show(15)"
      ],
      "metadata": {
        "colab": {
          "base_uri": "https://localhost:8080/"
        },
        "id": "hq_FiLKGIdQh",
        "outputId": "48115b79-8330-45e9-b22b-c5a4931b9e83"
      },
      "execution_count": null,
      "outputs": [
        {
          "output_type": "stream",
          "name": "stdout",
          "text": [
            "+----------+------+------------------+\n",
            "|Attributes|weight|        prediction|\n",
            "+----------+------+------------------+\n",
            "|    [16.5]| 131.5|138.46022923469417|\n",
            "|    [16.5]|151.25|138.46022923469417|\n",
            "|    [16.7]| 151.0|143.14944152907378|\n",
            "|    [16.8]| 127.5|145.49404767626362|\n",
            "|    [16.9]| 125.0| 147.8386538234534|\n",
            "|    [16.9]|137.25| 147.8386538234534|\n",
            "|    [16.9]|145.25| 147.8386538234534|\n",
            "|    [16.9]|147.75| 147.8386538234534|\n",
            "|    [16.9]|162.75| 147.8386538234534|\n",
            "|    [16.9]| 168.0| 147.8386538234534|\n",
            "|    [17.0]|191.75|150.18325997064323|\n",
            "|    [17.3]| 156.0|157.21707841221274|\n",
            "|    [17.3]|195.75|157.21707841221274|\n",
            "|    [17.4]|172.75|159.56168455940247|\n",
            "|    [17.6]|159.75| 164.2508968537822|\n",
            "+----------+------+------------------+\n",
            "only showing top 15 rows\n",
            "\n"
          ]
        }
      ]
    },
    {
      "cell_type": "code",
      "source": [
        "import numpy as np\n",
        "print (\"Note: the last rows are the information for Intercept\")\n",
        "print (\"##\",\"-------------------------------------------------\")\n",
        "print (\"##\",\"  Estimate   |   Std.Error | t Values  |  P-value\")\n",
        "coef = np.append(list(regressor.coefficients),regressor.intercept)\n",
        "Summary=regressor.summary\n",
        "\n",
        "for i in range(len(Summary.pValues)):\n",
        "    print (\"##\",'{:10.6f}'.format(coef[i]),\\\n",
        "    '{:10.6f}'.format(Summary.coefficientStandardErrors[i]),\\\n",
        "    '{:8.3f}'.format(Summary.tValues[i]),\\\n",
        "    '{:10.6f}'.format(Summary.pValues[i]))\n",
        "\n",
        "print (\"##\",'---')\n",
        "print (\"##\",\"Mean squared error: % .6f\" \\\n",
        "        % Summary.meanSquaredError, \", \\\n",
        "        RMSE: % .6f\" \\\n",
        "        % Summary.rootMeanSquaredError )\n",
        "print (\"##\",\"Multiple R-squared: %f\" % Summary.r2, \", \\\n",
        "        Total iterations: %i\"% Summary.totalIterations)"
      ],
      "metadata": {
        "colab": {
          "base_uri": "https://localhost:8080/"
        },
        "id": "Df8Z3ds5I1oq",
        "outputId": "f25d7f99-de79-4ed9-f52b-b98fba20a67d"
      },
      "execution_count": null,
      "outputs": [
        {
          "output_type": "stream",
          "name": "stdout",
          "text": [
            "Note: the last rows are the information for Intercept\n",
            "## -------------------------------------------------\n",
            "##   Estimate   |   Std.Error | t Values  |  P-value\n",
            "##  23.446061   1.597387   14.678   0.000000\n",
            "## -248.399785  29.180445   -8.513   0.000000\n",
            "## ---\n",
            "## Mean squared error:  413.236140 ,         RMSE:  20.328210\n",
            "## Multiple R-squared: 0.531370 ,         Total iterations: 0\n"
          ]
        }
      ]
    },
    {
      "cell_type": "code",
      "source": [
        "from pyspark.ml.evaluation import RegressionEvaluator\n",
        "#Evaluate linear regression\n",
        "eval_lr = RegressionEvaluator(labelCol=\"weight\", predictionCol=\"prediction\", metricName=\"rmse\")\n",
        "print(\"Linear regression model\\n\")\n",
        "\n",
        "# Root Mean Square Error\n",
        "rmse = eval_lr.evaluate(pred_lr)\n",
        "print(\"RMSE: %.3f\" % rmse)\n",
        "# r2 - coefficient of determination\n",
        "r2 = eval_lr.evaluate(pred_lr, {eval_lr.metricName: \"r2\"})\n",
        "print(\"r2: %.3f\" %r2)\n"
      ],
      "metadata": {
        "colab": {
          "base_uri": "https://localhost:8080/"
        },
        "id": "RWnRsxWfNTZI",
        "outputId": "a6e7d151-7a1a-4234-9398-afe6a566fa14"
      },
      "execution_count": null,
      "outputs": [
        {
          "output_type": "stream",
          "name": "stdout",
          "text": [
            "Linear regression model\n",
            "\n",
            "RMSE: 19.168\n",
            "r2: 0.534\n"
          ]
        }
      ]
    },
    {
      "cell_type": "markdown",
      "source": [
        "# Fat Dataset Curve Fitting"
      ],
      "metadata": {
        "id": "OBgx0i-UOt7F"
      }
    }
  ]
}