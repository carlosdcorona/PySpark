{
  "nbformat": 4,
  "nbformat_minor": 0,
  "metadata": {
    "colab": {
      "provenance": [],
      "include_colab_link": true
    },
    "kernelspec": {
      "name": "python3",
      "display_name": "Python 3"
    },
    "language_info": {
      "name": "python"
    }
  },
  "cells": [
    {
      "cell_type": "markdown",
      "metadata": {
        "id": "view-in-github",
        "colab_type": "text"
      },
      "source": [
        "<a href=\"https://colab.research.google.com/github/carlosdcorona/PySpark/blob/main/K-MeanspySpark.ipynb\" target=\"_parent\"><img src=\"https://colab.research.google.com/assets/colab-badge.svg\" alt=\"Open In Colab\"/></a>"
      ]
    },
    {
      "cell_type": "markdown",
      "source": [
        "# Classwork 13: K-Means\n",
        "\n",
        "### Bernardo Samuel Salazar de Hoyos A00825722\n",
        "### Carlos Daniel Corona Cortez A01656002\n",
        "### Sebastian Andres Saldaña Cárdenas A01570274\n",
        "### Sergio Noé Torres Rodríguez A00825706\n",
        "### Raúl V. Ramírez Velarde\n",
        "### November 1st, 2022"
      ],
      "metadata": {
        "id": "-O1HCSmbeOnx"
      }
    },
    {
      "cell_type": "code",
      "source": [
        "!apt-get install openjdk-8-jdk-headless -qq > /dev/null\n",
        "!wget -q https://downloads.apache.org/spark/spark-3.1.3/spark-3.1.3-bin-hadoop2.7.tgz\n",
        "!tar xf spark-3.1.3-bin-hadoop2.7.tgz\n",
        "!pip install -q findspark"
      ],
      "metadata": {
        "id": "VP1BJhJhsjaB"
      },
      "execution_count": null,
      "outputs": []
    },
    {
      "cell_type": "code",
      "source": [
        "#All imports\n",
        "import os\n",
        "os.environ[\"JAVA_HOME\"] = \"/usr/lib/jvm/java-8-openjdk-amd64\"\n",
        "os.environ[\"SPARK_HOME\"] = \"/content/spark-3.1.3-bin-hadoop2.7\""
      ],
      "metadata": {
        "id": "al_fUfUWrwek"
      },
      "execution_count": null,
      "outputs": []
    },
    {
      "cell_type": "code",
      "execution_count": null,
      "metadata": {
        "id": "4grIyjhyqOmS"
      },
      "outputs": [],
      "source": [
        "%matplotlib inline\n",
        "import findspark\n",
        "findspark.init()\n",
        "import pandas as pd\n",
        "import seaborn as sns\n",
        "import matplotlib.pyplot as plt\n",
        "import numpy as np\n",
        "from numpy import array\n",
        "from math import sqrt\n",
        "from pyspark.sql import SparkSession\n",
        "\n",
        "from pyspark import SparkContext, SparkConf,SQLContext\n",
        "from pyspark.ml.feature import VectorAssembler\n",
        "from pyspark.ml.feature import StandardScaler\n",
        "from pyspark.ml.clustering import KMeans\n",
        "from pyspark.ml.linalg import DenseVector\n",
        "from pyspark.ml.feature import PCA\n",
        "\n",
        "plt.style.use(\"ggplot\")"
      ]
    },
    {
      "cell_type": "code",
      "source": [
        "from google.colab import drive\n",
        "drive.mount('/content/drive/', force_remount=True)"
      ],
      "metadata": {
        "id": "4eZViUGouoMi",
        "colab": {
          "base_uri": "https://localhost:8080/"
        },
        "outputId": "ad33fa44-af12-44ba-80a5-bacca887f29b"
      },
      "execution_count": null,
      "outputs": [
        {
          "output_type": "stream",
          "name": "stdout",
          "text": [
            "Mounted at /content/drive/\n"
          ]
        }
      ]
    },
    {
      "cell_type": "code",
      "source": [
        "# Create dataset, in practice we usually read from a database or filesystem like HDFS, S3 etc...\n",
        "spark = SparkSession.builder.master(\"local[*]\").getOrCreate()\n",
        "path_csv = \"/content/drive/Shareddrives/Infra DS Equipo 4/Classwork13/EjemploClientes.csv\"\n",
        "dataset = spark.read.option(\"delimiter\",\",\").csv(path_csv,inferSchema=True, header =True)\n",
        "dataset.show(10)"
      ],
      "metadata": {
        "id": "j9N26Lj7rAKk",
        "colab": {
          "base_uri": "https://localhost:8080/"
        },
        "outputId": "32685069-b9e3-45f0-ddc0-8272bad6b7b9"
      },
      "execution_count": null,
      "outputs": [
        {
          "output_type": "stream",
          "name": "stdout",
          "text": [
            "+-----------+----+----------+----------------+---------------+----------------------+------------------+---------------------+---------+--------+------------------+-----------------+----------------+\n",
            "|    Cliente|Edad|Antiguedad|Espacios Parqueo|Velocidad Cajas|Distribucion Productos|Atencion Empleados|Calidad Instalaciones|Ubicacion|Limpieza|Variedad Productos|Prestigio Empresa|Calidad Servicio|\n",
            "+-----------+----+----------+----------------+---------------+----------------------+------------------+---------------------+---------+--------+------------------+-----------------+----------------+\n",
            "|    Ariana |  25|         1|               7|              6|                     7|                 6|                    7|        8|       9|                 7|                5|               0|\n",
            "|  Guiselle |  24|         0|               4|              8|                     9|                 0|                    7|        2|      10|                 0|                2|               0|\n",
            "| Francisco |  28|         7|               6|              8|                     8|                 4|                    7|        6|       8|                 7|                2|               7|\n",
            "|  Griselda |  23|         0|               3|              4|                     7|                 8|                    9|        0|      10|                 0|                1|               0|\n",
            "|   Damaris |  49|         6|               7|              0|                     3|                 2|                    1|        2|      10|                 0|                4|               0|\n",
            "|    Johana |  32|         4|               5|              6|                     7|                 8|                    6|        8|      10|                 0|                3|               0|\n",
            "|    Bernal |  26|         0|               6|              2|                     8|                 0|                    6|        6|       9|                 3|                3|               3|\n",
            "|    Freddy |  23|         4|               5|              6|                     6|                 8|                    6|        2|       9|                 7|                4|               0|\n",
            "| Estafania |  25|         4|               4|              6|                     8|                 0|                    3|        8|      10|                 0|                1|               7|\n",
            "|     Laura |  29|         0|               5|              4|                     6|                 4|                    8|        8|       9|                 7|                6|               7|\n",
            "+-----------+----+----------+----------------+---------------+----------------------+------------------+---------------------+---------+--------+------------------+-----------------+----------------+\n",
            "only showing top 10 rows\n",
            "\n"
          ]
        }
      ]
    },
    {
      "cell_type": "code",
      "source": [
        "dataset.toPandas().isnull().sum()"
      ],
      "metadata": {
        "colab": {
          "base_uri": "https://localhost:8080/"
        },
        "id": "Oz4EigTo02-2",
        "outputId": "cfa2818a-6aa8-4106-b1f3-6a672438eee9"
      },
      "execution_count": null,
      "outputs": [
        {
          "output_type": "execute_result",
          "data": {
            "text/plain": [
              "Cliente                   0\n",
              "Edad                      0\n",
              "Antiguedad                0\n",
              "Espacios Parqueo          0\n",
              "Velocidad Cajas           0\n",
              "Distribucion Productos    0\n",
              "Atencion Empleados        0\n",
              "Calidad Instalaciones     0\n",
              "Ubicacion                 0\n",
              "Limpieza                  0\n",
              "Variedad Productos        0\n",
              "Prestigio Empresa         0\n",
              "Calidad Servicio          0\n",
              "dtype: int64"
            ]
          },
          "metadata": {},
          "execution_count": 7
        }
      ]
    },
    {
      "cell_type": "code",
      "source": [
        "def vector_assembling(data,cols,colsname):\n",
        "  assembler = VectorAssembler(inputCols = cols, outputCol = colsname)\n",
        "  return assembler.transform(data)"
      ],
      "metadata": {
        "id": "if-yMna7z98t"
      },
      "execution_count": null,
      "outputs": []
    },
    {
      "cell_type": "code",
      "source": [
        "def standard_scaling(df,inputcol,outputcol):\n",
        "  scaler = StandardScaler(inputCol = inputcol, outputCol = outputcol, withStd = True, withMean = True)\n",
        "  scalerModel = scaler.fit(df)\n",
        "  return scalerModel.transform(df)"
      ],
      "metadata": {
        "id": "DEBNA0C3vgR1"
      },
      "execution_count": null,
      "outputs": []
    },
    {
      "cell_type": "code",
      "source": [
        "cols = [\"Cliente\"]\n",
        "dataset = dataset.select([name for name in dataset.columns if name not in cols])\n",
        "dataset_va = vector_assembling(dataset,dataset.columns,\"features_clientes\")\n",
        "dataset_ss = standard_scaling(dataset_va,\"features_clientes\",\"features_clientes_scaled\")\n",
        "\n"
      ],
      "metadata": {
        "id": "-Ist41GmyZMb"
      },
      "execution_count": null,
      "outputs": []
    },
    {
      "cell_type": "code",
      "source": [
        "dataset_ss.show()"
      ],
      "metadata": {
        "colab": {
          "base_uri": "https://localhost:8080/"
        },
        "id": "2Oem3GFZ0zaU",
        "outputId": "ce813d89-92d8-4739-e580-5a3eff015dac"
      },
      "execution_count": null,
      "outputs": [
        {
          "output_type": "stream",
          "name": "stdout",
          "text": [
            "+----+----------+----------------+---------------+----------------------+------------------+---------------------+---------+--------+------------------+-----------------+----------------+--------------------+------------------------+\n",
            "|Edad|Antiguedad|Espacios Parqueo|Velocidad Cajas|Distribucion Productos|Atencion Empleados|Calidad Instalaciones|Ubicacion|Limpieza|Variedad Productos|Prestigio Empresa|Calidad Servicio|   features_clientes|features_clientes_scaled|\n",
            "+----+----------+----------------+---------------+----------------------+------------------+---------------------+---------+--------+------------------+-----------------+----------------+--------------------+------------------------+\n",
            "|  25|         1|               7|              6|                     7|                 6|                    7|        8|       9|                 7|                5|               0|[25.0,1.0,7.0,6.0...|    [-0.5386793549194...|\n",
            "|  24|         0|               4|              8|                     9|                 0|                    7|        2|      10|                 0|                2|               0|[24.0,0.0,4.0,8.0...|    [-0.6800349303238...|\n",
            "|  28|         7|               6|              8|                     8|                 4|                    7|        6|       8|                 7|                2|               7|[28.0,7.0,6.0,8.0...|    [-0.1146126287062...|\n",
            "|  23|         0|               3|              4|                     7|                 8|                    9|        0|      10|                 0|                1|               0|[23.0,0.0,3.0,4.0...|    [-0.8213905057282...|\n",
            "|  49|         6|               7|              0|                     3|                 2|                    1|        2|      10|                 0|                4|               0|[49.0,6.0,7.0,0.0...|    [2.85385445478611...|\n",
            "|  32|         4|               5|              6|                     7|                 8|                    6|        8|      10|                 0|                3|               0|[32.0,4.0,5.0,6.0...|    [0.45080967291132...|\n",
            "|  26|         0|               6|              2|                     8|                 0|                    6|        6|       9|                 3|                3|               3|[26.0,0.0,6.0,2.0...|    [-0.3973237795150...|\n",
            "|  23|         4|               5|              6|                     6|                 8|                    6|        2|       9|                 7|                4|               0|[23.0,4.0,5.0,6.0...|    [-0.8213905057282...|\n",
            "|  25|         4|               4|              6|                     8|                 0|                    3|        8|      10|                 0|                1|               7|[25.0,4.0,4.0,6.0...|    [-0.5386793549194...|\n",
            "|  29|         0|               5|              4|                     6|                 4|                    8|        8|       9|                 7|                6|               7|[29.0,0.0,5.0,4.0...|    [0.02674294669813...|\n",
            "|  32|        13|               4|              2|                     7|                 8|                    7|        6|      10|                 0|                1|               3|[32.0,13.0,4.0,2....|    [0.45080967291132...|\n",
            "|  27|         5|               8|              0|                     9|                 4|                    5|        6|       8|                 7|                4|               0|[27.0,5.0,8.0,0.0...|    [-0.2559682041106...|\n",
            "|  22|         0|               6|              8|                     9|                 0|                    9|        0|      10|                 0|                5|               0|[22.0,0.0,6.0,8.0...|    [-0.9627460811326...|\n",
            "|  31|         5|               7|              2|                     7|                 6|                    7|        6|      10|                 0|                5|               3|[31.0,5.0,7.0,2.0...|    [0.30945409750692...|\n",
            "|  27|         5|               6|              2|                     7|                 8|                    5|        0|      10|                 0|                5|               0|[27.0,5.0,6.0,2.0...|    [-0.2559682041106...|\n",
            "|  42|         4|               6|              2|                     9|                 0|                    6|        2|      10|                 0|                3|               0|[42.0,4.0,6.0,2.0...|    [1.86436542695532...|\n",
            "|  43|         5|               6|              6|                     7|                 8|                    5|        6|       9|                 7|                3|               7|[43.0,5.0,6.0,6.0...|    [2.00572100235972...|\n",
            "|  24|         4|               7|              8|                     7|                 2|                    9|        6|       9|                 0|                3|               0|[24.0,4.0,7.0,8.0...|    [-0.6800349303238...|\n",
            "|  21|         1|               6|              2|                     9|                 6|                    8|        4|      10|                 0|                5|               3|[21.0,1.0,6.0,2.0...|    [-1.1041016565370...|\n",
            "|  30|         4|               6|              8|                     7|                 8|                    4|        0|       9|                 3|                2|               7|[30.0,4.0,6.0,8.0...|    [0.16809852210252...|\n",
            "+----+----------+----------------+---------------+----------------------+------------------+---------------------+---------+--------+------------------+-----------------+----------------+--------------------+------------------------+\n",
            "only showing top 20 rows\n",
            "\n"
          ]
        }
      ]
    },
    {
      "cell_type": "code",
      "source": [
        "def apply_pca(df,colinp,colout,num):\n",
        "  pca = PCA(k=num,inputCol=colinp,outputCol=colout)\n",
        "  model_pca = pca.fit(df)\n",
        "  return model_pca"
      ],
      "metadata": {
        "id": "2qht6eaOUSZi"
      },
      "execution_count": null,
      "outputs": []
    },
    {
      "cell_type": "code",
      "source": [
        "def scree_plot(model_pca):\n",
        "  expVar = model_pca.explainedVariance\n",
        "  plt.rcParams[\"figure.figsize\"] = (12,9)\n",
        "\n",
        "  plt.plot(expVar, marker = 'h', color = 'g')\n",
        "  plt.ylabel(\"Eigenvalue\")\n",
        "  plt.xlabel(\"Component Number\")\n",
        "  plt.title(\"Scree Plot\",fontsize = 20)\n",
        "  print(np.round(100.00*expVar.toArray(),4))\n",
        "\n",
        "  plt.show()"
      ],
      "metadata": {
        "id": "7AqbX7RGVELh"
      },
      "execution_count": null,
      "outputs": []
    },
    {
      "cell_type": "code",
      "source": [
        "model_pca = apply_pca(dataset_ss, 'features_clientes_scaled', 'features_clientes_scaled_out', 10)\n",
        "scree_plot(model_pca)"
      ],
      "metadata": {
        "colab": {
          "base_uri": "https://localhost:8080/",
          "height": 611
        },
        "id": "z3kKHvH0UHsZ",
        "outputId": "e6c2895d-3bf8-40f0-a140-425c8bc176bc"
      },
      "execution_count": null,
      "outputs": [
        {
          "output_type": "stream",
          "name": "stdout",
          "text": [
            "[22.8091 16.5563 16.2049 10.615   8.      6.1082  5.3094  4.741   3.3882\n",
            "  2.6665]\n"
          ]
        },
        {
          "output_type": "display_data",
          "data": {
            "text/plain": [
              "<Figure size 864x648 with 1 Axes>"
            ],
            "image/png": "[encoded data removed]"
          },
          "metadata": {}
        }
      ]
    },
    {
      "cell_type": "code",
      "source": [
        "# Specify the k in k-means\n",
        "kmeans = KMeans(k=3, seed=12, featuresCol=\"features_clientes_scaled\", predictionCol=\"label\")\n",
        "model = kmeans.fit(dataset_ss)\n",
        "clusterCenters = model.clusterCenters()\n",
        "clusterCenters"
      ],
      "metadata": {
        "colab": {
          "base_uri": "https://localhost:8080/"
        },
        "id": "lFIGQ-rvY0CQ",
        "outputId": "9a95bd42-bb93-46c1-e2c1-1dda41ac98fd"
      },
      "execution_count": null,
      "outputs": [
        {
          "output_type": "execute_result",
          "data": {
            "text/plain": [
              "[array([-0.55438553, -0.64407792, -0.2968716 ,  0.30564159,  0.80369418,\n",
              "        -0.64076522,  0.74560913, -0.61017908,  0.66693688, -0.78001434,\n",
              "         0.43859575, -0.44589292]),\n",
              " array([-0.15499994, -0.0197491 ,  0.35376338,  0.17783035,  0.05365911,\n",
              "        -0.0711499 ,  0.45259226,  0.2969175 , -0.95335876,  0.97691731,\n",
              "         0.1291823 , -0.01021454]),\n",
              " array([ 0.51139063,  0.43379919, -0.16291734, -0.37431423, -0.57031965,\n",
              "         0.48307041, -0.93191242,  0.09534048,  0.52461362, -0.47547952,\n",
              "        -0.41113671,  0.29685999])]"
            ]
          },
          "metadata": {},
          "execution_count": 29
        }
      ]
    },
    {
      "cell_type": "code",
      "source": [
        "df_prediction = model.transform(dataset_ss)\n",
        "df_prediction.show()"
      ],
      "metadata": {
        "colab": {
          "base_uri": "https://localhost:8080/"
        },
        "id": "6VxPnw5ScGzw",
        "outputId": "349c508e-da09-45fe-ef29-f00b8b7a4e2a"
      },
      "execution_count": null,
      "outputs": [
        {
          "output_type": "stream",
          "name": "stdout",
          "text": [
            "+----+----------+----------------+---------------+----------------------+------------------+---------------------+---------+--------+------------------+-----------------+----------------+--------------------+------------------------+-----+\n",
            "|Edad|Antiguedad|Espacios Parqueo|Velocidad Cajas|Distribucion Productos|Atencion Empleados|Calidad Instalaciones|Ubicacion|Limpieza|Variedad Productos|Prestigio Empresa|Calidad Servicio|   features_clientes|features_clientes_scaled|label|\n",
            "+----+----------+----------------+---------------+----------------------+------------------+---------------------+---------+--------+------------------+-----------------+----------------+--------------------+------------------------+-----+\n",
            "|  25|         1|               7|              6|                     7|                 6|                    7|        8|       9|                 7|                5|               0|[25.0,1.0,7.0,6.0...|    [-0.5386793549194...|    1|\n",
            "|  24|         0|               4|              8|                     9|                 0|                    7|        2|      10|                 0|                2|               0|[24.0,0.0,4.0,8.0...|    [-0.6800349303238...|    0|\n",
            "|  28|         7|               6|              8|                     8|                 4|                    7|        6|       8|                 7|                2|               7|[28.0,7.0,6.0,8.0...|    [-0.1146126287062...|    1|\n",
            "|  23|         0|               3|              4|                     7|                 8|                    9|        0|      10|                 0|                1|               0|[23.0,0.0,3.0,4.0...|    [-0.8213905057282...|    0|\n",
            "|  49|         6|               7|              0|                     3|                 2|                    1|        2|      10|                 0|                4|               0|[49.0,6.0,7.0,0.0...|    [2.85385445478611...|    2|\n",
            "|  32|         4|               5|              6|                     7|                 8|                    6|        8|      10|                 0|                3|               0|[32.0,4.0,5.0,6.0...|    [0.45080967291132...|    2|\n",
            "|  26|         0|               6|              2|                     8|                 0|                    6|        6|       9|                 3|                3|               3|[26.0,0.0,6.0,2.0...|    [-0.3973237795150...|    1|\n",
            "|  23|         4|               5|              6|                     6|                 8|                    6|        2|       9|                 7|                4|               0|[23.0,4.0,5.0,6.0...|    [-0.8213905057282...|    1|\n",
            "|  25|         4|               4|              6|                     8|                 0|                    3|        8|      10|                 0|                1|               7|[25.0,4.0,4.0,6.0...|    [-0.5386793549194...|    2|\n",
            "|  29|         0|               5|              4|                     6|                 4|                    8|        8|       9|                 7|                6|               7|[29.0,0.0,5.0,4.0...|    [0.02674294669813...|    1|\n",
            "|  32|        13|               4|              2|                     7|                 8|                    7|        6|      10|                 0|                1|               3|[32.0,13.0,4.0,2....|    [0.45080967291132...|    2|\n",
            "|  27|         5|               8|              0|                     9|                 4|                    5|        6|       8|                 7|                4|               0|[27.0,5.0,8.0,0.0...|    [-0.2559682041106...|    1|\n",
            "|  22|         0|               6|              8|                     9|                 0|                    9|        0|      10|                 0|                5|               0|[22.0,0.0,6.0,8.0...|    [-0.9627460811326...|    0|\n",
            "|  31|         5|               7|              2|                     7|                 6|                    7|        6|      10|                 0|                5|               3|[31.0,5.0,7.0,2.0...|    [0.30945409750692...|    2|\n",
            "|  27|         5|               6|              2|                     7|                 8|                    5|        0|      10|                 0|                5|               0|[27.0,5.0,6.0,2.0...|    [-0.2559682041106...|    2|\n",
            "|  42|         4|               6|              2|                     9|                 0|                    6|        2|      10|                 0|                3|               0|[42.0,4.0,6.0,2.0...|    [1.86436542695532...|    0|\n",
            "|  43|         5|               6|              6|                     7|                 8|                    5|        6|       9|                 7|                3|               7|[43.0,5.0,6.0,6.0...|    [2.00572100235972...|    1|\n",
            "|  24|         4|               7|              8|                     7|                 2|                    9|        6|       9|                 0|                3|               0|[24.0,4.0,7.0,8.0...|    [-0.6800349303238...|    1|\n",
            "|  21|         1|               6|              2|                     9|                 6|                    8|        4|      10|                 0|                5|               3|[21.0,1.0,6.0,2.0...|    [-1.1041016565370...|    0|\n",
            "|  30|         4|               6|              8|                     7|                 8|                    4|        0|       9|                 3|                2|               7|[30.0,4.0,6.0,8.0...|    [0.16809852210252...|    2|\n",
            "+----+----------+----------------+---------------+----------------------+------------------+---------------------+---------+--------+------------------+-----------------+----------------+--------------------+------------------------+-----+\n",
            "only showing top 20 rows\n",
            "\n"
          ]
        }
      ]
    }
  ]
}