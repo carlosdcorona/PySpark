{
  "nbformat": 4,
  "nbformat_minor": 0,
  "metadata": {
    "colab": {
      "provenance": [],
      "include_colab_link": true
    },
    "kernelspec": {
      "name": "python3",
      "display_name": "Python 3"
    },
    "language_info": {
      "name": "python"
    }
  },
  "cells": [
    {
      "cell_type": "markdown",
      "metadata": {
        "id": "view-in-github",
        "colab_type": "text"
      },
      "source": [
        "<a href=\"https://colab.research.google.com/github/carlosdcorona/PySpark/blob/main/pySparkEDAClimateChange.ipynb\" target=\"_parent\"><img src=\"https://colab.research.google.com/assets/colab-badge.svg\" alt=\"Open In Colab\"/></a>"
      ]
    },
    {
      "cell_type": "markdown",
      "source": [
        "#pySpark EDA. Climate Change\n",
        "\n",
        "### Carlos Daniel Corona Cortez A01656002\n",
        "### October 10, 2022\n"
      ],
      "metadata": {
        "id": "njXDwn3i91Fk"
      }
    },
    {
      "cell_type": "code",
      "source": [
        "!apt-get install openjdk-8-jdk-headless -qq > /dev/null\n",
        "!wget -q https://downloads.apache.org/spark/spark-3.1.3/spark-3.1.3-bin-hadoop2.7.tgz\n",
        "!tar xf spark-3.1.3-bin-hadoop2.7.tgz\n",
        "!pip install -q findspark"
      ],
      "metadata": {
        "id": "nNuNLlzy-AJQ"
      },
      "execution_count": null,
      "outputs": []
    },
    {
      "cell_type": "code",
      "source": [
        "#All imports\n",
        "import os\n",
        "os.environ[\"JAVA_HOME\"] = \"/usr/lib/jvm/java-8-openjdk-amd64\"\n",
        "os.environ[\"SPARK_HOME\"] = \"/content/spark-3.1.3-bin-hadoop2.7\""
      ],
      "metadata": {
        "id": "l2Rs94-m-EFS"
      },
      "execution_count": null,
      "outputs": []
    },
    {
      "cell_type": "code",
      "source": [
        "import findspark\n",
        "from pyspark import SparkContext, SparkConf,SQLContext\n",
        "from pyspark.sql import SparkSession\n",
        "from pyspark.sql.functions import isnan, when, count, col, lit\n",
        "import numpy as np\n",
        "import pandas as pd\n",
        "import matplotlib.pyplot as plt\n",
        "import seaborn as sns"
      ],
      "metadata": {
        "id": "i882hu0K-GP6",
        "colab": {
          "base_uri": "https://localhost:8080/",
          "height": 374
        },
        "outputId": "2a36839b-7573-411e-b454-9850ad917dd5"
      },
      "execution_count": null,
      "outputs": [
        {
          "output_type": "error",
          "ename": "ModuleNotFoundError",
          "evalue": "ignored",
          "traceback": [
            "\u001b[0;31m---------------------------------------------------------------------------\u001b[0m",
            "\u001b[0;31mModuleNotFoundError\u001b[0m                       Traceback (most recent call last)",
            "\u001b[0;32m<ipython-input-8-dccf6ca6e8f9>\u001b[0m in \u001b[0;36m<module>\u001b[0;34m\u001b[0m\n\u001b[1;32m      1\u001b[0m \u001b[0;32mimport\u001b[0m \u001b[0mfindspark\u001b[0m\u001b[0;34m\u001b[0m\u001b[0;34m\u001b[0m\u001b[0m\n\u001b[0;32m----> 2\u001b[0;31m \u001b[0;32mfrom\u001b[0m \u001b[0mpyspark\u001b[0m \u001b[0;32mimport\u001b[0m \u001b[0mSparkContext\u001b[0m\u001b[0;34m,\u001b[0m \u001b[0mSparkConf\u001b[0m\u001b[0;34m,\u001b[0m\u001b[0mSQLContext\u001b[0m\u001b[0;34m\u001b[0m\u001b[0;34m\u001b[0m\u001b[0m\n\u001b[0m\u001b[1;32m      3\u001b[0m \u001b[0;32mfrom\u001b[0m \u001b[0mpyspark\u001b[0m\u001b[0;34m.\u001b[0m\u001b[0msql\u001b[0m \u001b[0;32mimport\u001b[0m \u001b[0mSparkSession\u001b[0m\u001b[0;34m\u001b[0m\u001b[0;34m\u001b[0m\u001b[0m\n\u001b[1;32m      4\u001b[0m \u001b[0;32mfrom\u001b[0m \u001b[0mpyspark\u001b[0m\u001b[0;34m.\u001b[0m\u001b[0msql\u001b[0m\u001b[0;34m.\u001b[0m\u001b[0mfunctions\u001b[0m \u001b[0;32mimport\u001b[0m \u001b[0misnan\u001b[0m\u001b[0;34m,\u001b[0m \u001b[0mwhen\u001b[0m\u001b[0;34m,\u001b[0m \u001b[0mcount\u001b[0m\u001b[0;34m,\u001b[0m \u001b[0mcol\u001b[0m\u001b[0;34m,\u001b[0m \u001b[0mlit\u001b[0m\u001b[0;34m\u001b[0m\u001b[0;34m\u001b[0m\u001b[0m\n\u001b[1;32m      5\u001b[0m \u001b[0;32mimport\u001b[0m \u001b[0mnumpy\u001b[0m \u001b[0;32mas\u001b[0m \u001b[0mnp\u001b[0m\u001b[0;34m\u001b[0m\u001b[0;34m\u001b[0m\u001b[0m\n",
            "\u001b[0;31mModuleNotFoundError\u001b[0m: No module named 'pyspark'",
            "",
            "\u001b[0;31m---------------------------------------------------------------------------\u001b[0;32m\nNOTE: If your import is failing due to a missing package, you can\nmanually install dependencies using either !pip or !apt.\n\nTo view examples of installing some common dependencies, click the\n\"Open Examples\" button below.\n\u001b[0;31m---------------------------------------------------------------------------\u001b[0m\n"
          ],
          "errorDetails": {
            "actions": [
              {
                "action": "open_url",
                "actionText": "Open Examples",
                "url": "/notebooks/snippets/importing_libraries.ipynb"
              }
            ]
          }
        }
      ]
    },
    {
      "cell_type": "code",
      "source": [
        "from google.colab import drive\n",
        "drive.mount('/content/drive/', force_remount=True)"
      ],
      "metadata": {
        "id": "CIWFcxJK-JVV"
      },
      "execution_count": null,
      "outputs": []
    },
    {
      "cell_type": "code",
      "source": [
        "# create sparksession and sparkcontext\n",
        "sc = SparkContext.getOrCreate(SparkConf().setMaster(\"local[*]\"))\n",
        "filepath = '/content/drive/Shareddrives/Infra DS Equipo 4/Homework 05/climate_change.csv'\n",
        "\n",
        "spark = SparkSession \\\n",
        "    .builder \\\n",
        "    .getOrCreate()\n",
        "\n",
        "sqlContext = SQLContext(sc)"
      ],
      "metadata": {
        "id": "I4voDbTJ-LPu"
      },
      "execution_count": null,
      "outputs": []
    },
    {
      "cell_type": "code",
      "source": [
        "df = sqlContext.read.csv(filepath,header=True,inferSchema=True)\n",
        "df.show(10)"
      ],
      "metadata": {
        "colab": {
          "base_uri": "https://localhost:8080/"
        },
        "id": "jodpGhfg-bdJ",
        "outputId": "2fef1163-dd4f-406d-9315-88a2c321d203"
      },
      "execution_count": null,
      "outputs": [
        {
          "output_type": "stream",
          "name": "stdout",
          "text": [
            "+----+-----+------+------+-------+-------+-------+-------+---------+--------+-----+\n",
            "|Year|Month|   MEI|   CO2|    CH4|    N2O| CFC-11| CFC-12|      TSI|Aerosols| Temp|\n",
            "+----+-----+------+------+-------+-------+-------+-------+---------+--------+-----+\n",
            "|1983|    5| 2.556|345.96|1638.59|303.677|191.324|350.113|1366.1024|  0.0863|0.109|\n",
            "|1983|    6| 2.167|345.52|1633.71|303.746|192.057|351.848|1366.1208|  0.0794|0.118|\n",
            "|1983|    7| 1.741|344.15|1633.22|303.795|192.818|353.725| 1366.285|  0.0731|0.137|\n",
            "|1983|    8|  1.13|342.25|1631.35|303.839|193.602|355.633|1366.4202|  0.0673|0.176|\n",
            "|1983|    9| 0.428|340.17| 1648.4|303.901|194.392|357.465|1366.2335|  0.0619|0.149|\n",
            "|1983|   10| 0.002| 340.3|1663.79| 303.97|195.171|359.174|1366.0589|  0.0569|0.093|\n",
            "|1983|   11|-0.176|341.53|1658.23|304.032|195.921|360.758|1366.1072|  0.0524|0.232|\n",
            "|1983|   12|-0.176|343.07|1654.31|304.082|196.609|362.174|1366.0607|  0.0486|0.078|\n",
            "|1984|    1|-0.339|344.05|1658.98| 304.13|197.219|363.359|1365.4261|  0.0451|0.089|\n",
            "|1984|    2|-0.565|344.77|1656.48|304.194|197.759|364.296|1365.6618|  0.0416|0.013|\n",
            "+----+-----+------+------+-------+-------+-------+-------+---------+--------+-----+\n",
            "only showing top 10 rows\n",
            "\n"
          ]
        }
      ]
    },
    {
      "cell_type": "code",
      "source": [
        "df.dtypes"
      ],
      "metadata": {
        "colab": {
          "base_uri": "https://localhost:8080/"
        },
        "id": "9t3O5pCNGTaW",
        "outputId": "5e2bdace-f2d0-4b42-8593-1a7b78757c5c"
      },
      "execution_count": null,
      "outputs": [
        {
          "output_type": "execute_result",
          "data": {
            "text/plain": [
              "[('Year', 'int'),\n",
              " ('Month', 'int'),\n",
              " ('MEI', 'double'),\n",
              " ('CO2', 'double'),\n",
              " ('CH4', 'double'),\n",
              " ('N2O', 'double'),\n",
              " ('CFC-11', 'double'),\n",
              " ('CFC-12', 'double'),\n",
              " ('TSI', 'double'),\n",
              " ('Aerosols', 'double'),\n",
              " ('Temp', 'double')]"
            ]
          },
          "metadata": {},
          "execution_count": 15
        }
      ]
    },
    {
      "cell_type": "code",
      "source": [
        "df.toPandas().isnull().sum()"
      ],
      "metadata": {
        "colab": {
          "base_uri": "https://localhost:8080/"
        },
        "id": "-u5k6PUdE8bl",
        "outputId": "da5cf155-49ec-4799-fd73-dc9c9ec397dc"
      },
      "execution_count": null,
      "outputs": [
        {
          "output_type": "execute_result",
          "data": {
            "text/plain": [
              "Year        0\n",
              "Month       0\n",
              "MEI         0\n",
              "CO2         0\n",
              "CH4         0\n",
              "N2O         0\n",
              "CFC-11      0\n",
              "CFC-12      0\n",
              "TSI         0\n",
              "Aerosols    0\n",
              "Temp        0\n",
              "dtype: int64"
            ]
          },
          "metadata": {},
          "execution_count": 10
        }
      ]
    },
    {
      "cell_type": "code",
      "source": [
        "df_omit_time = df.select([col for col in df.columns if col not in  ('Year','Month')])\n",
        "df_omit_time.summary().show()"
      ],
      "metadata": {
        "colab": {
          "base_uri": "https://localhost:8080/"
        },
        "id": "2a0oU3L-Goln",
        "outputId": "fedf6f44-f225-4a3d-dcf3-1a8e31d54dfa"
      },
      "execution_count": null,
      "outputs": [
        {
          "output_type": "stream",
          "name": "stdout",
          "text": [
            "+-------+-------------------+------------------+------------------+------------------+------------------+------------------+------------------+-------------------+-------------------+\n",
            "|summary|                MEI|               CO2|               CH4|               N2O|            CFC-11|            CFC-12|               TSI|           Aerosols|               Temp|\n",
            "+-------+-------------------+------------------+------------------+------------------+------------------+------------------+------------------+-------------------+-------------------+\n",
            "|  count|                308|               308|               308|               308|               308|               308|               308|                308|                308|\n",
            "|   mean|0.27555519480519486|363.22675324675305|1749.8245129870143|312.39183441558424| 251.9730681818181|497.52478246753236|1366.0707590909085|0.01665714285714292| 0.2567759740259741|\n",
            "| stddev| 0.9379184591591946|12.647124861976184| 46.05167823751526| 5.225130729644478|20.231783175034025| 57.82689883399483|0.3996095493561925|0.02904956980433031|0.17908976824102688|\n",
            "|    min|             -1.635|            340.17|           1629.89|           303.677|           191.324|           350.113|         1365.4261|             0.0016|             -0.282|\n",
            "|    25%|             -0.407|            352.93|           1721.95|           307.993|           246.261|           470.907|         1365.7163|             0.0028|              0.121|\n",
            "|    50%|              0.234|             361.7|           1763.75|           311.481|           258.289|           528.263|         1365.9781|             0.0057|              0.248|\n",
            "|    75%|              0.823|            373.37|           1786.77|           316.969|           266.978|           540.456|         1366.3611|             0.0126|              0.407|\n",
            "|    max|              3.001|             388.5|           1814.18|           322.182|           271.494|           543.813|         1367.3162|             0.1494|              0.739|\n",
            "+-------+-------------------+------------------+------------------+------------------+------------------+------------------+------------------+-------------------+-------------------+\n",
            "\n"
          ]
        }
      ]
    },
    {
      "cell_type": "markdown",
      "source": [
        "##"
      ],
      "metadata": {
        "id": "iq7nNHApHeAg"
      }
    },
    {
      "cell_type": "code",
      "source": [],
      "metadata": {
        "id": "qGXD3eAsHGLJ"
      },
      "execution_count": null,
      "outputs": []
    }
  ]
}
